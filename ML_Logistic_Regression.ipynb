{
  "cells": [
    {
      "cell_type": "markdown",
      "metadata": {
        "id": "FrL8q68cgJWW"
      },
      "source": [
        "We have chosen Telecom customer churn prediction dataset to develop a machine learning model that can predict customers who can churn telecom service subscription in the future based on multiple factors."
      ]
    },
    {
      "cell_type": "markdown",
      "metadata": {
        "id": "qr0FJGOPgQmD"
      },
      "source": [
        "* We have performed below steps to evaluate data and select features."
      ]
    },
    {
      "cell_type": "markdown",
      "metadata": {
        "id": "3MXBKOfXgTSb"
      },
      "source": [
        "**1. Missing Value Check :**\n",
        "\n",
        "*\tWe are using isnull() function to check missing values in dataset."
      ]
    },
    {
      "cell_type": "code",
      "execution_count": null,
      "metadata": {
        "id": "t_wrVZUUBUTS"
      },
      "outputs": [],
      "source": [
        "import numpy as np\n",
        "import pandas as pd\n",
        "from sklearn.preprocessing import StandardScaler\n",
        "from sklearn.model_selection import GridSearchCV\n",
        "from sklearn.linear_model import SGDClassifier\n",
        "import warnings\n",
        "warnings.filterwarnings(\"ignore\", category=FutureWarning)"
      ]
    },
    {
      "cell_type": "code",
      "execution_count": null,
      "metadata": {
        "colab": {
          "base_uri": "https://localhost:8080/"
        },
        "id": "IFQGD3M5IzXb",
        "outputId": "30b8d6e8-d195-40ec-99cb-ed87791cfea8"
      },
      "outputs": [
        {
          "output_type": "execute_result",
          "data": {
            "text/plain": [
              "(7043, 21)"
            ]
          },
          "metadata": {},
          "execution_count": 3
        }
      ],
      "source": [
        "churn_data = pd.read_csv('/content/Telecom_customer_churn_prediction.csv')\n",
        "churn_data.isnull().sum()\n",
        "churn_data.shape"
      ]
    },
    {
      "cell_type": "markdown",
      "metadata": {
        "id": "CUIW7jVrta9i"
      },
      "source": [
        "* **Result**: As we can see all columns are having not null values which means there are no missing values for any feature in the dataset. We are good to move ahead for data exploration and feature selection."
      ]
    },
    {
      "cell_type": "markdown",
      "source": [
        "---"
      ],
      "metadata": {
        "id": "V7r3py89GvBR"
      }
    },
    {
      "cell_type": "markdown",
      "metadata": {
        "id": "obeAAaOQJU5k"
      },
      "source": [
        "**2.\tData Analysis and Exploration –**\n",
        "\n",
        "* In this step we can understand the features and feature column values available in the dataset. \n",
        "* Here we have used few functions to understand dataset in depth ."
      ]
    },
    {
      "cell_type": "code",
      "execution_count": null,
      "metadata": {
        "colab": {
          "base_uri": "https://localhost:8080/"
        },
        "id": "ETf5RBZGBhWo",
        "outputId": "11eaf3f0-91f3-467d-b186-ae54d3179c76"
      },
      "outputs": [
        {
          "output_type": "stream",
          "name": "stdout",
          "text": [
            "   customerID  gender  SeniorCitizen Partner Dependents  tenure PhoneService  \\\n",
            "0  7590-VHVEG  Female              0     Yes         No       1           No   \n",
            "1  5575-GNVDE    Male              0      No         No      34          Yes   \n",
            "2  3668-QPYBK    Male              0      No         No       2          Yes   \n",
            "3  7795-CFOCW    Male              0      No         No      45           No   \n",
            "4  9237-HQITU  Female              0      No         No       2          Yes   \n",
            "\n",
            "      MultipleLines InternetService OnlineSecurity OnlineBackup  \\\n",
            "0  No phone service             DSL             No          Yes   \n",
            "1                No             DSL            Yes           No   \n",
            "2                No             DSL            Yes          Yes   \n",
            "3  No phone service             DSL            Yes           No   \n",
            "4                No     Fiber optic             No           No   \n",
            "\n",
            "  DeviceProtection TechSupport StreamingTV StreamingMovies        Contract  \\\n",
            "0               No          No          No              No  Month-to-month   \n",
            "1              Yes          No          No              No        One year   \n",
            "2               No          No          No              No  Month-to-month   \n",
            "3              Yes         Yes          No              No        One year   \n",
            "4               No          No          No              No  Month-to-month   \n",
            "\n",
            "  PaperlessBilling              PaymentMethod  MonthlyCharges  TotalCharges  \\\n",
            "0              Yes           Electronic check           29.85         29.85   \n",
            "1               No               Mailed check           56.95       1889.50   \n",
            "2              Yes               Mailed check           53.85        108.15   \n",
            "3               No  Bank transfer (automatic)           42.30       1840.75   \n",
            "4              Yes           Electronic check           70.70        151.65   \n",
            "\n",
            "  Churn  \n",
            "0    No  \n",
            "1    No  \n",
            "2   Yes  \n",
            "3    No  \n",
            "4   Yes  \n",
            "(7043, 21)\n",
            "<class 'pandas.core.frame.DataFrame'>\n",
            "RangeIndex: 7043 entries, 0 to 7042\n",
            "Data columns (total 21 columns):\n",
            " #   Column            Non-Null Count  Dtype  \n",
            "---  ------            --------------  -----  \n",
            " 0   customerID        7043 non-null   object \n",
            " 1   gender            7043 non-null   object \n",
            " 2   SeniorCitizen     7043 non-null   int64  \n",
            " 3   Partner           7043 non-null   object \n",
            " 4   Dependents        7043 non-null   object \n",
            " 5   tenure            7043 non-null   int64  \n",
            " 6   PhoneService      7043 non-null   object \n",
            " 7   MultipleLines     7043 non-null   object \n",
            " 8   InternetService   7043 non-null   object \n",
            " 9   OnlineSecurity    7043 non-null   object \n",
            " 10  OnlineBackup      7043 non-null   object \n",
            " 11  DeviceProtection  7043 non-null   object \n",
            " 12  TechSupport       7043 non-null   object \n",
            " 13  StreamingTV       7043 non-null   object \n",
            " 14  StreamingMovies   7043 non-null   object \n",
            " 15  Contract          7043 non-null   object \n",
            " 16  PaperlessBilling  7043 non-null   object \n",
            " 17  PaymentMethod     7043 non-null   object \n",
            " 18  MonthlyCharges    7043 non-null   float64\n",
            " 19  TotalCharges      7043 non-null   float64\n",
            " 20  Churn             7043 non-null   object \n",
            "dtypes: float64(2), int64(2), object(17)\n",
            "memory usage: 1.1+ MB\n",
            "None\n",
            "       SeniorCitizen       tenure  MonthlyCharges  TotalCharges\n",
            "count    7043.000000  7043.000000     7043.000000   7043.000000\n",
            "mean        0.162147    32.371149       64.761692   2279.734304\n",
            "std         0.368612    24.559481       30.090047   2266.794470\n",
            "min         0.000000     0.000000       18.250000      0.000000\n",
            "25%         0.000000     9.000000       35.500000    398.550000\n",
            "50%         0.000000    29.000000       70.350000   1394.550000\n",
            "75%         0.000000    55.000000       89.850000   3786.600000\n",
            "max         1.000000    72.000000      118.750000   8684.800000\n"
          ]
        }
      ],
      "source": [
        "pd.set_option('display.max_columns', None) \n",
        "print(churn_data.head())\n",
        "print(churn_data.shape)\n",
        "print(churn_data.info())\n",
        "print(churn_data.describe())"
      ]
    },
    {
      "cell_type": "markdown",
      "metadata": {
        "id": "4-uT_c2nJuVz"
      },
      "source": [
        "* In dataset we have total 21 features and categories as below.\n",
        "\n",
        "* **Categorical features -** \n",
        "1.\tcustomerID – Unique customer Id\n",
        "2.\tgender - Female, Male \n",
        "3.\tSeniorCitizen - if customer is senior citizen, possible values 0, 1\n",
        "4.\tPartner – if subscriber has partner, possible values Yes, No\n",
        "5.\tDependents - if subscriber has dependents values Yes, No  \n",
        "6.\ttenure -the customer has stayed for Number of months with company  \n",
        "7.\tPhoneService - if customer has phone service, possible values Yes, No\n",
        "8.\tMultipleLines - if customer has multiple lines, possible values Yes, No, No \n",
        "phone service   \n",
        "9.\tInternetService - Internet service provider, possible values DSL, No, Fiber optic  \n",
        "10.\tOnlineSecurity - if customer provided with online security, possible values \n",
        "Yes, No, No internet service   \n",
        "11.\t OnlineBackup - if customer provided with any backup support, possible \n",
        "values Yes, No, No internet service\n",
        "12.\tDeviceProtection - if customer provided with any device protection service,\n",
        "possible values Yes, No, No internet service \n",
        "13.\tTechSupport - if customer has technical support, possible values Yes, No, No internet service       \n",
        "14.\t StreamingTV- if customer using streaming TV, possible values Yes, No, No internet service     \n",
        "15.\t StreamingMovies - if customer is straming movies, possible values Yes, No, No internet service   \n",
        "16.\tContract - customer contract period, possible values Month-to-month, One year, Two year          \n",
        "17.\tPaperlessBilling- if customer using paper bill service, possible values Yes, No\n",
        "18.\tPaymentMethod – There are 4 types of payment method, Electronic, mailed, Bank transfer, Credit card\n",
        "19.\tMonthlyCharges - Monthly charge\n",
        "20.\tTotalCharges - Total Charge\n",
        "21.\t Churn - customer churned status, possible values Yes, No\n",
        " \n",
        "* Except \"tenure\",\"TotalCharges\" and \"MonthlyCharges\" datatype of all other features are Object.\n",
        "* We have total 7043 records in which 1869 records of churned customers and 5174 records of not churned customers.\n",
        "* \"tenure\",\"TotalCharges\" and \"MonthlyCharges\" are continuous variable whereas remaining features are categorical."
      ]
    },
    {
      "cell_type": "markdown",
      "metadata": {
        "id": "znXcsMyFcuXr"
      },
      "source": [
        "**3. HeatMap and Feature Selection :** \n",
        "\n",
        "* In this step we will find feature correlation and select features.\n",
        "* We have observed below feature dependency in dataset.\n",
        "1.\tChurn rate is high for high monthly charges.\n",
        "2.\tChurn rate is high for less customer tenure. \n",
        "3.\tCustomers subscribe with online security tend to have less churn rate.\n",
        "4.\t Customers subscribe without tech support tend to have high churn rate.\n",
        "5.\tCustomers subscribe with fiber optic internet services tend to have high churn rate.\n",
        "6.\tFor gender, churn rate is nearly close for male and female.\n",
        "7.\tCustomers subscribe with phone services tend to have high churn rate.\n",
        "\n",
        "* Based on all above observation Churn is dependent on all other selected features we have defined below dependent and independent variables.\n",
        "* Dependent Variables - gender, tenure, PhoneService, MultipleLines, phoneservice, InternetService, OnlineSecurity, OnlineBackup, DeviceProtection, TechSupport, StreamingTV, StreamingMovies, Contract, PaperlessBilling, \n",
        "PaymentMethod, MonthlyCharges, TotalCharges\n",
        "      \n",
        "* Independent Variable – Churn"
      ]
    },
    {
      "cell_type": "markdown",
      "metadata": {
        "id": "Le2XiHHFmr-m"
      },
      "source": [
        "* We have dropped columns – customerID, SeniorCitizen, partner, Dependents, PaymentMethod as these columns were not affecting churn predictions."
      ]
    },
    {
      "cell_type": "code",
      "execution_count": null,
      "metadata": {
        "id": "W0PBfN0wCl_1"
      },
      "outputs": [],
      "source": [
        "def converter(column):\n",
        "    if column == 'Yes':\n",
        "        return 1\n",
        "    else:\n",
        "        return 0"
      ]
    },
    {
      "cell_type": "code",
      "execution_count": null,
      "metadata": {
        "colab": {
          "base_uri": "https://localhost:8080/"
        },
        "id": "T1x-T51yCCVT",
        "outputId": "495adc0f-b43c-46b8-a055-f1475a009c23"
      },
      "outputs": [
        {
          "output_type": "stream",
          "name": "stdout",
          "text": [
            "   customerID  gender  SeniorCitizen Partner Dependents  tenure  PhoneService  \\\n",
            "0  7590-VHVEG       1              0     Yes         No       1             0   \n",
            "1  5575-GNVDE       0              0      No         No      34             1   \n",
            "\n",
            "   MultipleLines  InternetService  OnlineSecurity  OnlineBackup  \\\n",
            "0              0                1               0             1   \n",
            "1              0                1               1             0   \n",
            "\n",
            "   DeviceProtection  TechSupport  StreamingTV  StreamingMovies  \\\n",
            "0                 0            0            0                0   \n",
            "1                 1            0            0                0   \n",
            "\n",
            "         Contract  PaperlessBilling     PaymentMethod  MonthlyCharges  \\\n",
            "0  Month-to-month                 1  Electronic check           29.85   \n",
            "1        One year                 0      Mailed check           56.95   \n",
            "\n",
            "   TotalCharges  Churn  \n",
            "0         29.85      0  \n",
            "1       1889.50      0  \n"
          ]
        }
      ],
      "source": [
        "churn_data['gender'] = churn_data['gender'].map({'Female':1, 'Male':0})\n",
        "churn_data['MultipleLines'] = churn_data['MultipleLines'].map({'Yes':1, 'No':0,'No phone service':0})\n",
        "churn_data['InternetService'] = churn_data['InternetService'].map({'DSL':1, 'Fiber optic':0,'No':0})\n",
        "churn_data['OnlineSecurity'] = churn_data['OnlineSecurity'].map({'Yes':1, 'No':0,'No internet service':0})\n",
        "churn_data['OnlineBackup'] = churn_data['OnlineBackup'].map({'Yes':1, 'No':0,'No internet service':0})\n",
        "churn_data['DeviceProtection'] = churn_data['DeviceProtection'].map({'Yes':1, 'No':0,'No internet service':0})\n",
        "churn_data['TechSupport'] = churn_data['TechSupport'].map({'Yes':1, 'No':0,'No internet service':0})\n",
        "churn_data['StreamingTV'] = churn_data['StreamingTV'].map({'Yes':1, 'No':0,'No internet service':0})\n",
        "churn_data['StreamingMovies'] = churn_data['StreamingMovies'].map({'Yes':1, 'No':0,'No internet service':0})\n",
        "churn_data['PhoneService'] = churn_data['PhoneService'].apply(converter)\n",
        "churn_data['PaperlessBilling'] = churn_data['PaperlessBilling'].apply(converter)\n",
        "churn_data['Churn'] = churn_data['Churn'].apply(converter)\n",
        "print(churn_data.head(2))"
      ]
    },
    {
      "cell_type": "code",
      "execution_count": null,
      "metadata": {
        "colab": {
          "base_uri": "https://localhost:8080/"
        },
        "id": "BqSleR8dqvKp",
        "outputId": "78eb8d01-389b-47e4-f638-d6b74fd8431b"
      },
      "outputs": [
        {
          "output_type": "stream",
          "name": "stdout",
          "text": [
            "<class 'pandas.core.frame.DataFrame'>\n",
            "RangeIndex: 7043 entries, 0 to 7042\n",
            "Data columns (total 23 columns):\n",
            " #   Column                   Non-Null Count  Dtype  \n",
            "---  ------                   --------------  -----  \n",
            " 0   customerID               7043 non-null   object \n",
            " 1   gender                   7043 non-null   int64  \n",
            " 2   SeniorCitizen            7043 non-null   int64  \n",
            " 3   Partner                  7043 non-null   object \n",
            " 4   Dependents               7043 non-null   object \n",
            " 5   tenure                   7043 non-null   int64  \n",
            " 6   PhoneService             7043 non-null   int64  \n",
            " 7   MultipleLines            7043 non-null   int64  \n",
            " 8   InternetService          7043 non-null   int64  \n",
            " 9   OnlineSecurity           7043 non-null   int64  \n",
            " 10  OnlineBackup             7043 non-null   int64  \n",
            " 11  DeviceProtection         7043 non-null   int64  \n",
            " 12  TechSupport              7043 non-null   int64  \n",
            " 13  StreamingTV              7043 non-null   int64  \n",
            " 14  StreamingMovies          7043 non-null   int64  \n",
            " 15  PaperlessBilling         7043 non-null   int64  \n",
            " 16  PaymentMethod            7043 non-null   object \n",
            " 17  MonthlyCharges           7043 non-null   float64\n",
            " 18  TotalCharges             7043 non-null   float64\n",
            " 19  Churn                    7043 non-null   int64  \n",
            " 20  Contract_Month-to-month  7043 non-null   uint8  \n",
            " 21  Contract_One year        7043 non-null   uint8  \n",
            " 22  Contract_Two year        7043 non-null   uint8  \n",
            "dtypes: float64(2), int64(14), object(4), uint8(3)\n",
            "memory usage: 1.1+ MB\n",
            "None\n",
            "   customerID  gender  SeniorCitizen Partner Dependents  tenure  PhoneService  \\\n",
            "0  7590-VHVEG       1              0     Yes         No       1             0   \n",
            "1  5575-GNVDE       0              0      No         No      34             1   \n",
            "\n",
            "   MultipleLines  InternetService  OnlineSecurity  OnlineBackup  \\\n",
            "0              0                1               0             1   \n",
            "1              0                1               1             0   \n",
            "\n",
            "   DeviceProtection  TechSupport  StreamingTV  StreamingMovies  \\\n",
            "0                 0            0            0                0   \n",
            "1                 1            0            0                0   \n",
            "\n",
            "   PaperlessBilling     PaymentMethod  MonthlyCharges  TotalCharges  Churn  \\\n",
            "0                 1  Electronic check           29.85         29.85      0   \n",
            "1                 0      Mailed check           56.95       1889.50      0   \n",
            "\n",
            "   Contract_Month-to-month  Contract_One year  Contract_Two year  \n",
            "0                        1                  0                  0  \n",
            "1                        0                  1                  0  \n"
          ]
        }
      ],
      "source": [
        "categorical_features = ['Contract']\n",
        "churn_final_data = pd.get_dummies(churn_data, columns = categorical_features)\n",
        "print(churn_final_data.info())\n",
        "print(churn_final_data.head(2))"
      ]
    },
    {
      "cell_type": "code",
      "execution_count": null,
      "metadata": {
        "id": "maY5cLo_mjxI"
      },
      "outputs": [],
      "source": [
        "churn_final_data.drop(['customerID','SeniorCitizen','Partner','Dependents','PaymentMethod'],axis=1,inplace=True)"
      ]
    },
    {
      "cell_type": "code",
      "execution_count": null,
      "metadata": {
        "colab": {
          "base_uri": "https://localhost:8080/"
        },
        "id": "7KHmgAENpt65",
        "outputId": "3a70838d-0db6-44e9-ba20-f148d58701f7"
      },
      "outputs": [
        {
          "output_type": "stream",
          "name": "stdout",
          "text": [
            "   gender  tenure  PhoneService  MultipleLines  InternetService  \\\n",
            "0       1       1             0              0                1   \n",
            "1       0      34             1              0                1   \n",
            "\n",
            "   OnlineSecurity  OnlineBackup  DeviceProtection  TechSupport  StreamingTV  \\\n",
            "0               0             1                 0            0            0   \n",
            "1               1             0                 1            0            0   \n",
            "\n",
            "   StreamingMovies  PaperlessBilling  MonthlyCharges  TotalCharges  Churn  \\\n",
            "0                0                 1           29.85         29.85      0   \n",
            "1                0                 0           56.95       1889.50      0   \n",
            "\n",
            "   Contract_Month-to-month  Contract_One year  Contract_Two year  \n",
            "0                        1                  0                  0  \n",
            "1                        0                  1                  0  \n"
          ]
        }
      ],
      "source": [
        "print(churn_final_data.head(2))"
      ]
    },
    {
      "cell_type": "code",
      "execution_count": null,
      "metadata": {
        "id": "Gb2GtLNvrUIy"
      },
      "outputs": [],
      "source": [
        "churn_corrs = churn_final_data.corr()"
      ]
    },
    {
      "cell_type": "code",
      "execution_count": null,
      "metadata": {
        "colab": {
          "base_uri": "https://localhost:8080/",
          "height": 786
        },
        "id": "xy0wY2S6eRNo",
        "outputId": "d6506915-34d6-41bf-eac3-1cf51e2e5b1a"
      },
      "outputs": [
        {
          "output_type": "execute_result",
          "data": {
            "text/plain": [
              "<matplotlib.axes._subplots.AxesSubplot at 0x7ff371f7d990>"
            ]
          },
          "metadata": {},
          "execution_count": 10
        },
        {
          "output_type": "display_data",
          "data": {
            "text/plain": [
              "<Figure size 792x792 with 2 Axes>"
            ],
            "image/png": "[encoded data removed]"
          },
          "metadata": {
            "needs_background": "light"
          }
        }
      ],
      "source": [
        "import seaborn as sns\n",
        "import matplotlib.pyplot as plt\n",
        "plt.figure(figsize=(11,11))\n",
        "sns.heatmap(churn_corrs,cmap='RdBu',center=0,vmin=-1,vmax=1,annot=True,fmt='.1f',linewidth=2)"
      ]
    },
    {
      "cell_type": "markdown",
      "source": [
        "---"
      ],
      "metadata": {
        "id": "Net82yL6G9c0"
      }
    },
    {
      "cell_type": "markdown",
      "metadata": {
        "id": "Tg6WoHNJNZvZ"
      },
      "source": [
        "\n",
        "\n",
        "\n",
        "\n",
        "\n",
        "\n",
        "\n",
        "\n",
        "* **5.Logistic Regression-**"
      ]
    },
    {
      "cell_type": "markdown",
      "metadata": {
        "id": "9lhMq7gwqY0G"
      },
      "source": [
        "* Data shows the binary classification in churn data hence its suitable to build regression model using logistic regression algorithm.\n",
        "*\tNext step is to divide dataset into label and feature."
      ]
    },
    {
      "cell_type": "code",
      "execution_count": null,
      "metadata": {
        "colab": {
          "base_uri": "https://localhost:8080/"
        },
        "id": "l3d0vdOgHiAu",
        "outputId": "f098af3a-c67f-4f3a-8ae2-7204ba07cf60"
      },
      "outputs": [
        {
          "output_type": "stream",
          "name": "stdout",
          "text": [
            "<class 'pandas.core.frame.DataFrame'>\n",
            "<class 'pandas.core.series.Series'>\n",
            "(7043, 17)\n",
            "(7043,)\n"
          ]
        }
      ],
      "source": [
        "X = churn_final_data.drop('Churn', axis = 1) # Features\n",
        "Y = churn_final_data['Churn'] # Labels\n",
        "print(type(X))\n",
        "print(type(Y))\n",
        "print(X.shape)\n",
        "print(Y.shape)"
      ]
    },
    {
      "cell_type": "markdown",
      "metadata": {
        "id": "fkmjwQMs-PJ5"
      },
      "source": [
        "* Seperate churn dataset into training and test dataset."
      ]
    },
    {
      "cell_type": "code",
      "execution_count": null,
      "metadata": {
        "colab": {
          "base_uri": "https://localhost:8080/"
        },
        "id": "J3x75nu0DN45",
        "outputId": "75f0fcf7-c423-41ce-9d1b-5c63e1593be1"
      },
      "outputs": [
        {
          "output_type": "execute_result",
          "data": {
            "text/plain": [
              "LogisticRegression(max_iter=1000, random_state=0)"
            ]
          },
          "metadata": {},
          "execution_count": 12
        }
      ],
      "source": [
        "from sklearn.linear_model import LogisticRegression \n",
        "from sklearn.model_selection import train_test_split \n",
        "X_train,X_test,y_train,y_test = train_test_split(X,Y,test_size=0.3,random_state=0) # Dataset is divided in 30% test data and 70% training data\n",
        "model=LogisticRegression(max_iter=1000,random_state=0)\n",
        "model.fit(X_train, y_train)"
      ]
    },
    {
      "cell_type": "code",
      "execution_count": null,
      "metadata": {
        "colab": {
          "base_uri": "https://localhost:8080/"
        },
        "id": "CZ4uSFm-DQIO",
        "outputId": "40c4bd7f-f1ee-49a4-bdf8-977b1bb17a70"
      },
      "outputs": [
        {
          "output_type": "execute_result",
          "data": {
            "text/plain": [
              "array([0, 0, 0, ..., 0, 0, 0])"
            ]
          },
          "metadata": {},
          "execution_count": 13
        }
      ],
      "source": [
        "y_pred=model.predict(X_test)\n",
        "y_pred"
      ]
    },
    {
      "cell_type": "code",
      "execution_count": null,
      "metadata": {
        "colab": {
          "base_uri": "https://localhost:8080/"
        },
        "id": "7e_XRAXZbI1w",
        "outputId": "152ab4b3-dc84-4345-acf8-b6dee4440a8e"
      },
      "outputs": [
        {
          "output_type": "stream",
          "name": "stdout",
          "text": [
            "0.804868154158215\n",
            "0.8007572172266919\n"
          ]
        }
      ],
      "source": [
        "print(model.score(X_train,y_train))\n",
        "print(model.score(X_test,y_test))"
      ]
    },
    {
      "cell_type": "markdown",
      "metadata": {
        "id": "np6wnlHSGL1t"
      },
      "source": [
        "**Evaluating Logistic Regression**"
      ]
    },
    {
      "cell_type": "markdown",
      "source": [
        "**Classifier evaluation:**\n",
        "\n",
        "Split the Data: We are Splitting the dataset working with into two subgroups is a solid and regularly used strategy. The training set and the test set are the two sets. Normally, this divide is done at random. To fit our model, we used the training set. We evaluate the model's performance with the test set after it has been fitted. It's crucial to avoid using the test set when fitting the model. This method allows for a fair assessment of the model.\n",
        "\n",
        "![image.png](data:image/png;base64,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)\n",
        "\n",
        "**1. Classification Accuracy -** This metric determines the percentage of right predictions among all forecasts. When we have unbalanced test sets, however, this measure is misleading.\n",
        "\n",
        "**2. Precision —** This metric assesses the model's ability to prevent false positives.\n",
        "\n",
        "**3. Recall -** This metric assesses the model's ability to prevent false negatives.\n",
        "\n",
        "**4. F1 Score -** Measures the model's ability to prevent both false positives and false negatives."
      ],
      "metadata": {
        "id": "JTqzEn_ZS7cE"
      }
    },
    {
      "cell_type": "code",
      "execution_count": null,
      "metadata": {
        "colab": {
          "base_uri": "https://localhost:8080/",
          "height": 423
        },
        "id": "HD2c1pJ-GVKN",
        "outputId": "24b0422f-1162-4aa1-8e7b-9a59fb844e8d"
      },
      "outputs": [
        {
          "output_type": "execute_result",
          "data": {
            "text/plain": [
              "      Prediction  Actual\n",
              "2200           0       0\n",
              "4627           0       0\n",
              "3225           0       0\n",
              "2828           0       0\n",
              "3768           0       0\n",
              "...          ...     ...\n",
              "4448           1       1\n",
              "1231           0       0\n",
              "3304           0       0\n",
              "4805           0       0\n",
              "5843           0       0\n",
              "\n",
              "[2113 rows x 2 columns]"
            ],
            "text/html": [
              "\n",
              "  <div id=\"df-456daf61-f3b1-4873-9b45-18c788528430\">\n",
              "    <div class=\"colab-df-container\">\n",
              "      <div>\n",
              "<style scoped>\n",
              "    .dataframe tbody tr th:only-of-type {\n",
              "        vertical-align: middle;\n",
              "    }\n",
              "\n",
              "    .dataframe tbody tr th {\n",
              "        vertical-align: top;\n",
              "    }\n",
              "\n",
              "    .dataframe thead th {\n",
              "        text-align: right;\n",
              "    }\n",
              "</style>\n",
              "<table border=\"1\" class=\"dataframe\">\n",
              "  <thead>\n",
              "    <tr style=\"text-align: right;\">\n",
              "      <th></th>\n",
              "      <th>Prediction</th>\n",
              "      <th>Actual</th>\n",
              "    </tr>\n",
              "  </thead>\n",
              "  <tbody>\n",
              "    <tr>\n",
              "      <th>2200</th>\n",
              "      <td>0</td>\n",
              "      <td>0</td>\n",
              "    </tr>\n",
              "    <tr>\n",
              "      <th>4627</th>\n",
              "      <td>0</td>\n",
              "      <td>0</td>\n",
              "    </tr>\n",
              "    <tr>\n",
              "      <th>3225</th>\n",
              "      <td>0</td>\n",
              "      <td>0</td>\n",
              "    </tr>\n",
              "    <tr>\n",
              "      <th>2828</th>\n",
              "      <td>0</td>\n",
              "      <td>0</td>\n",
              "    </tr>\n",
              "    <tr>\n",
              "      <th>3768</th>\n",
              "      <td>0</td>\n",
              "      <td>0</td>\n",
              "    </tr>\n",
              "    <tr>\n",
              "      <th>...</th>\n",
              "      <td>...</td>\n",
              "      <td>...</td>\n",
              "    </tr>\n",
              "    <tr>\n",
              "      <th>4448</th>\n",
              "      <td>1</td>\n",
              "      <td>1</td>\n",
              "    </tr>\n",
              "    <tr>\n",
              "      <th>1231</th>\n",
              "      <td>0</td>\n",
              "      <td>0</td>\n",
              "    </tr>\n",
              "    <tr>\n",
              "      <th>3304</th>\n",
              "      <td>0</td>\n",
              "      <td>0</td>\n",
              "    </tr>\n",
              "    <tr>\n",
              "      <th>4805</th>\n",
              "      <td>0</td>\n",
              "      <td>0</td>\n",
              "    </tr>\n",
              "    <tr>\n",
              "      <th>5843</th>\n",
              "      <td>0</td>\n",
              "      <td>0</td>\n",
              "    </tr>\n",
              "  </tbody>\n",
              "</table>\n",
              "<p>2113 rows × 2 columns</p>\n",
              "</div>\n",
              "      <button class=\"colab-df-convert\" onclick=\"convertToInteractive('df-456daf61-f3b1-4873-9b45-18c788528430')\"\n",
              "              title=\"Convert this dataframe to an interactive table.\"\n",
              "              style=\"display:none;\">\n",
              "        \n",
              "  <svg xmlns=\"http://www.w3.org/2000/svg\" height=\"24px\"viewBox=\"0 0 24 24\"\n",
              "       width=\"24px\">\n",
              "    <path d=\"M0 0h24v24H0V0z\" fill=\"none\"/>\n",
              "    <path d=\"M18.56 5.44l.94 2.06.94-2.06 2.06-.94-2.06-.94-.94-2.06-.94 2.06-2.06.94zm-11 1L8.5 8.5l.94-2.06 2.06-.94-2.06-.94L8.5 2.5l-.94 2.06-2.06.94zm10 10l.94 2.06.94-2.06 2.06-.94-2.06-.94-.94-2.06-.94 2.06-2.06.94z\"/><path d=\"M17.41 7.96l-1.37-1.37c-.4-.4-.92-.59-1.43-.59-.52 0-1.04.2-1.43.59L10.3 9.45l-7.72 7.72c-.78.78-.78 2.05 0 2.83L4 21.41c.39.39.9.59 1.41.59.51 0 1.02-.2 1.41-.59l7.78-7.78 2.81-2.81c.8-.78.8-2.07 0-2.86zM5.41 20L4 18.59l7.72-7.72 1.47 1.35L5.41 20z\"/>\n",
              "  </svg>\n",
              "      </button>\n",
              "      \n",
              "  <style>\n",
              "    .colab-df-container {\n",
              "      display:flex;\n",
              "      flex-wrap:wrap;\n",
              "      gap: 12px;\n",
              "    }\n",
              "\n",
              "    .colab-df-convert {\n",
              "      background-color: #E8F0FE;\n",
              "      border: none;\n",
              "      border-radius: 50%;\n",
              "      cursor: pointer;\n",
              "      display: none;\n",
              "      fill: #1967D2;\n",
              "      height: 32px;\n",
              "      padding: 0 0 0 0;\n",
              "      width: 32px;\n",
              "    }\n",
              "\n",
              "    .colab-df-convert:hover {\n",
              "      background-color: #E2EBFA;\n",
              "      box-shadow: 0px 1px 2px rgba(60, 64, 67, 0.3), 0px 1px 3px 1px rgba(60, 64, 67, 0.15);\n",
              "      fill: #174EA6;\n",
              "    }\n",
              "\n",
              "    [theme=dark] .colab-df-convert {\n",
              "      background-color: #3B4455;\n",
              "      fill: #D2E3FC;\n",
              "    }\n",
              "\n",
              "    [theme=dark] .colab-df-convert:hover {\n",
              "      background-color: #434B5C;\n",
              "      box-shadow: 0px 1px 3px 1px rgba(0, 0, 0, 0.15);\n",
              "      filter: drop-shadow(0px 1px 2px rgba(0, 0, 0, 0.3));\n",
              "      fill: #FFFFFF;\n",
              "    }\n",
              "  </style>\n",
              "\n",
              "      <script>\n",
              "        const buttonEl =\n",
              "          document.querySelector('#df-456daf61-f3b1-4873-9b45-18c788528430 button.colab-df-convert');\n",
              "        buttonEl.style.display =\n",
              "          google.colab.kernel.accessAllowed ? 'block' : 'none';\n",
              "\n",
              "        async function convertToInteractive(key) {\n",
              "          const element = document.querySelector('#df-456daf61-f3b1-4873-9b45-18c788528430');\n",
              "          const dataTable =\n",
              "            await google.colab.kernel.invokeFunction('convertToInteractive',\n",
              "                                                     [key], {});\n",
              "          if (!dataTable) return;\n",
              "\n",
              "          const docLinkHtml = 'Like what you see? Visit the ' +\n",
              "            '<a target=\"_blank\" href=https://colab.research.google.com/notebooks/data_table.ipynb>data table notebook</a>'\n",
              "            + ' to learn more about interactive tables.';\n",
              "          element.innerHTML = '';\n",
              "          dataTable['output_type'] = 'display_data';\n",
              "          await google.colab.output.renderOutput(dataTable, element);\n",
              "          const docLink = document.createElement('div');\n",
              "          docLink.innerHTML = docLinkHtml;\n",
              "          element.appendChild(docLink);\n",
              "        }\n",
              "      </script>\n",
              "    </div>\n",
              "  </div>\n",
              "  "
            ]
          },
          "metadata": {},
          "execution_count": 15
        }
      ],
      "source": [
        "final_pred = [] \n",
        "for i in y_pred:\n",
        "    if i > 0.5:\n",
        "      final_pred.append(1)\n",
        "    else:\n",
        "        final_pred.append(0) \n",
        "yhat=final_pred  \n",
        "df=pd.DataFrame({\"Prediction\":yhat,\"Actual\":y_test})\n",
        "df"
      ]
    },
    {
      "cell_type": "markdown",
      "source": [
        "**Accuracy of classification:**"
      ],
      "metadata": {
        "id": "EhgPJeH1mFGx"
      }
    },
    {
      "cell_type": "code",
      "execution_count": null,
      "metadata": {
        "colab": {
          "base_uri": "https://localhost:8080/"
        },
        "id": "v9nVMGkJHIs-",
        "outputId": "dd7f683d-71fd-4c4b-da00-89bbe65543ac"
      },
      "outputs": [
        {
          "output_type": "stream",
          "name": "stdout",
          "text": [
            "[[1392  168]\n",
            " [ 253  300]]\n",
            "accuracy 0.8007572172266919\n"
          ]
        }
      ],
      "source": [
        "from sklearn.metrics import accuracy_score, confusion_matrix, precision_score, recall_score \n",
        " ## Evaluate predictions\n",
        "print(  confusion_matrix(y_test, yhat))\n",
        "print('accuracy',accuracy_score(y_test, yhat))\n",
        "#print(y_test.shape)"
      ]
    },
    {
      "cell_type": "markdown",
      "source": [
        "* As per above result 253 is false negative value and 168 false positive value. Since, we have high false negative value we have take recall score into consideration. "
      ],
      "metadata": {
        "id": "u99e_RIeBzbj"
      }
    },
    {
      "cell_type": "markdown",
      "source": [
        "**Precision and Recall:**"
      ],
      "metadata": {
        "id": "KEXFlIEBmPVw"
      }
    },
    {
      "cell_type": "code",
      "execution_count": null,
      "metadata": {
        "colab": {
          "base_uri": "https://localhost:8080/"
        },
        "id": "-Tjdt8iIHNL0",
        "outputId": "109a1e9f-b451-4375-b92e-ed87c24259b4"
      },
      "outputs": [
        {
          "output_type": "stream",
          "name": "stdout",
          "text": [
            "Precision: 0.641\n",
            "Recall: 0.542\n"
          ]
        }
      ],
      "source": [
        "from sklearn.metrics import precision_score\n",
        "precision = precision_score(y_test, y_pred,average='binary')\n",
        "print('Precision: %.3f' % precision)\n",
        "from sklearn.metrics import recall_score\n",
        "recall = recall_score(y_test, y_pred)\n",
        "print('Recall: %.3f' % recall)\n",
        "#X_train.shape"
      ]
    },
    {
      "cell_type": "markdown",
      "source": [
        "* Precision score = 0.641 and Recall score = 0.542"
      ],
      "metadata": {
        "id": "ulqBaBvECb77"
      }
    },
    {
      "cell_type": "markdown",
      "source": [
        "We have performed Logistic Regression with imbalanced Dataset."
      ],
      "metadata": {
        "id": "mBrp9Esa8S5V"
      }
    },
    {
      "cell_type": "code",
      "execution_count": null,
      "metadata": {
        "colab": {
          "base_uri": "https://localhost:8080/"
        },
        "id": "VDw15donHSML",
        "outputId": "68eabe55-cb7c-400e-ccfd-52f78087ffbe"
      },
      "outputs": [
        {
          "output_type": "stream",
          "name": "stdout",
          "text": [
            "0.8.1\n"
          ]
        }
      ],
      "source": [
        "import imblearn\n",
        "print(imblearn.__version__)"
      ]
    },
    {
      "cell_type": "code",
      "execution_count": null,
      "metadata": {
        "colab": {
          "base_uri": "https://localhost:8080/"
        },
        "id": "AnOwdbbfHW8U",
        "outputId": "2ca42866-643b-4dae-88b6-fffb6f560b6a"
      },
      "outputs": [
        {
          "output_type": "stream",
          "name": "stdout",
          "text": [
            "Counter({0: 5174, 1: 1869})\n",
            "Counter({0: 5174, 1: 5174})\n",
            "(7043, 17)\n"
          ]
        },
        {
          "output_type": "execute_result",
          "data": {
            "text/plain": [
              "(10348, 17)"
            ]
          },
          "metadata": {},
          "execution_count": 20
        }
      ],
      "source": [
        "# define oversampling strategy\n",
        "from imblearn.over_sampling import RandomOverSampler\n",
        "from collections import Counter\n",
        "oversample = RandomOverSampler(sampling_strategy='minority')\n",
        "# fit and apply the transform\n",
        "X_over, y_over = oversample.fit_resample(X, Y)\n",
        "print(Counter(Y))\n",
        "#X_over.shape\n",
        "print(Counter(y_over))\n",
        "print(X.shape)\n",
        "X_over.shape"
      ]
    },
    {
      "cell_type": "code",
      "execution_count": null,
      "metadata": {
        "id": "2vEs_lC1I9to"
      },
      "outputs": [],
      "source": [
        "X_train,X_test,y_train,y_test=train_test_split(X_over,y_over,test_size=0.3,random_state=0) # testset is 30%"
      ]
    },
    {
      "cell_type": "code",
      "execution_count": null,
      "metadata": {
        "colab": {
          "base_uri": "https://localhost:8080/"
        },
        "id": "rF_cv-xEJAp-",
        "outputId": "39f88aff-64c3-43d6-858c-181ee9821e1d"
      },
      "outputs": [
        {
          "output_type": "execute_result",
          "data": {
            "text/plain": [
              "array([1, 0, 1, ..., 1, 1, 0])"
            ]
          },
          "metadata": {},
          "execution_count": 22
        }
      ],
      "source": [
        "model1=LogisticRegression(max_iter=10000, random_state=43)\n",
        "model1.fit(X_train, y_train)\n",
        "pred_lr=model1.predict(X_test)\n",
        "pred_lr"
      ]
    },
    {
      "cell_type": "code",
      "execution_count": null,
      "metadata": {
        "id": "0lr2id3FJFF7"
      },
      "outputs": [],
      "source": [
        "pred_bin = [] \n",
        "for x in pred_lr:\n",
        "    if x > 0.5:\n",
        "      pred_bin.append(1)\n",
        "    else:\n",
        "        pred_bin.append(0) "
      ]
    },
    {
      "cell_type": "code",
      "execution_count": null,
      "metadata": {
        "colab": {
          "base_uri": "https://localhost:8080/"
        },
        "id": "ejeFDXktJH6j",
        "outputId": "7b230571-70c9-4172-b939-2515b8e141c6"
      },
      "outputs": [
        {
          "output_type": "stream",
          "name": "stdout",
          "text": [
            "0.7636070853462158\n",
            "[[1109  438]\n",
            " [ 296 1262]]\n"
          ]
        }
      ],
      "source": [
        "print(accuracy_score(y_test, pred_bin))\n",
        "print( confusion_matrix(y_test, pred_bin))"
      ]
    },
    {
      "cell_type": "code",
      "execution_count": null,
      "metadata": {
        "colab": {
          "base_uri": "https://localhost:8080/"
        },
        "id": "yjGUI3G-JKmk",
        "outputId": "d3810eb3-46a1-4614-b026-cd500e0d870f"
      },
      "outputs": [
        {
          "output_type": "stream",
          "name": "stdout",
          "text": [
            "Precision: 0.742\n",
            "Recall: 0.810\n"
          ]
        }
      ],
      "source": [
        "precision = precision_score(y_test, pred_bin,average='binary')\n",
        "print('Precision: %.3f' % precision)\n",
        "recall = recall_score(y_test, pred_bin)\n",
        "print('Recall: %.3f' % recall)"
      ]
    },
    {
      "cell_type": "markdown",
      "source": [
        "**Results**:\n",
        "* After balancing the dataset our precision increased from 0.642 to 0.742 whereas recall increased from 0.542 to 0.810.\n",
        "\n",
        "* It means our model is working better after balancing."
      ],
      "metadata": {
        "id": "otv2t8HXC6Av"
      }
    },
    {
      "cell_type": "markdown",
      "source": [
        "**F1 Score:**"
      ],
      "metadata": {
        "id": "6YxTorzgmpNz"
      }
    },
    {
      "cell_type": "code",
      "execution_count": null,
      "metadata": {
        "colab": {
          "base_uri": "https://localhost:8080/"
        },
        "id": "4_CBHZ2HJNXH",
        "outputId": "225ade54-0a46-454b-c95c-814af21e54a0"
      },
      "outputs": [
        {
          "output_type": "stream",
          "name": "stdout",
          "text": [
            "f1_score: 0.763\n"
          ]
        }
      ],
      "source": [
        "from sklearn.metrics import f1_score\n",
        "f1score = f1_score(y_test, pred_bin,average='weighted')\n",
        "print('f1_score: %.3f' % f1score)"
      ]
    },
    {
      "cell_type": "markdown",
      "source": [
        "**Accuracy with K-Fold Cross validation:**\n",
        "\n",
        "The dataset is divided into k sections (k = 10). We call the activity of splitting the data a 'fold' every time we do so. The model is taught k-1 folds with one portion held back and then tested on that part. Each fold should be as close as feasible to the same record size. We end up with k various performance scores after running cross-validation, which we summarize using the mean and standard deviation."
      ],
      "metadata": {
        "id": "fSvxfP_xmsna"
      }
    },
    {
      "cell_type": "code",
      "execution_count": null,
      "metadata": {
        "colab": {
          "base_uri": "https://localhost:8080/"
        },
        "id": "7sREdg7KJQrE",
        "outputId": "3f4021de-2ea5-4fd7-e337-8290d853c092"
      },
      "outputs": [
        {
          "output_type": "stream",
          "name": "stdout",
          "text": [
            "[0.76618357 0.76618357 0.7826087  0.74009662 0.77391304 0.7410628\n",
            " 0.73816425 0.76135266 0.76692456 0.7794971 ]\n",
            "Accuracy with 10 fold cross validation:  76.15986880834245\n"
          ]
        }
      ],
      "source": [
        "from sklearn.model_selection import KFold\n",
        "from sklearn.model_selection import cross_val_score\n",
        "\n",
        "kfold = KFold(n_splits=10, random_state=100, shuffle=True)\n",
        "model2= LogisticRegression(max_iter=10000,random_state=1)\n",
        "results_kfold = cross_val_score(model2, X_over, y_over, cv=kfold)\n",
        "print(results_kfold)\n",
        "print('Accuracy with 10 fold cross validation: ',results_kfold.mean()*100.0)"
      ]
    },
    {
      "cell_type": "code",
      "execution_count": null,
      "metadata": {
        "colab": {
          "base_uri": "https://localhost:8080/"
        },
        "id": "n-XXfAtLJgrZ",
        "outputId": "5950c25a-b1f5-4889-856c-ea05e2450396"
      },
      "outputs": [
        {
          "output_type": "execute_result",
          "data": {
            "text/plain": [
              "array([[3719, 1455],\n",
              "       [ 990, 4184]])"
            ]
          },
          "metadata": {},
          "execution_count": 28
        }
      ],
      "source": [
        "from sklearn.model_selection import cross_val_predict\n",
        "\n",
        "y_pred1 = cross_val_predict(model2, X_over, y_over, cv=10)\n",
        "conf_mat = confusion_matrix(y_over, y_pred1)\n",
        "conf_mat"
      ]
    },
    {
      "cell_type": "markdown",
      "source": [
        "Note: We have performed logistic regression with Balanced Dataset."
      ],
      "metadata": {
        "id": "lzcJVKLm85Cc"
      }
    },
    {
      "cell_type": "markdown",
      "source": [
        "---"
      ],
      "metadata": {
        "id": "_0wvBQYZHHgh"
      }
    },
    {
      "cell_type": "markdown",
      "metadata": {
        "id": "yNGm4fxCs5r7"
      },
      "source": [
        " **Stochastic Gradient Decent-**"
      ]
    },
    {
      "cell_type": "markdown",
      "metadata": {
        "id": "ghSw0f1Hs9Aw"
      },
      "source": [
        "* We know that stochastic gradient decent is used as an optimization of gradient decent. \n",
        "* As there are many disadvantages of gradient decent using in our model. \n",
        "* Gradient decent performs very bad when we have large number of data points and attributes. It increases the computation time to minimize the cost function. So, in these situations stochastic gradient decent is used. \n",
        "* The meaning of stochastic is random, so it randomly picks data points from the dataset i.e. sample of data points in each iteration to lower the computation time.\n",
        "* We have used sklearn library of python to perform stochastic gradient decent in our dataset.\n",
        "* We have used stochastic gradient decent classifier in our dataset as it is a classification problem. \n",
        "* We have taken loss parameter in stochastic gradient decent as log. It defines that we have used stochastic gradient decent with logistic regression. \n",
        "* We have taken max_iter = 1000 and penalty= l1, which is a regularisation parameter and alpha=0.005. Alpha is learning rate.\n",
        "* We have found the best parameters of stochastic gradient decent by using GridSearchCV of sklearn library. \n",
        "* After this we have used confusion matrix of sklearn library to see false negative and false positive values in our model i.e., our model is not able to correctly predict these values. \n",
        "* After confusion matrix we have used classification report of sklearn library\n",
        "* To see precision and recall of 0’s and 1’s in our model. So, by using confusion matrix we can find the accuracy of our model. As we have taken classification problem."
      ]
    },
    {
      "cell_type": "code",
      "source": [
        "from sklearn.model_selection import train_test_split as tts\n",
        "X_train, X_test,y_train,y_test = tts(X_over,y_over)"
      ],
      "metadata": {
        "id": "M0blsP_olQhl"
      },
      "execution_count": null,
      "outputs": []
    },
    {
      "cell_type": "code",
      "execution_count": null,
      "metadata": {
        "id": "O_Gov5-ptpfP"
      },
      "outputs": [],
      "source": [
        "from sklearn.linear_model import SGDClassifier\n",
        "sgdc = SGDClassifier(loss=\"log\", max_iter=10000,penalty='l1',random_state=43,alpha=0.0001).fit(X_train,y_train)"
      ]
    },
    {
      "cell_type": "code",
      "execution_count": null,
      "metadata": {
        "colab": {
          "base_uri": "https://localhost:8080/"
        },
        "id": "1dw3zMwH5I1-",
        "outputId": "738d40fa-81b4-4b92-adda-ead0e207f7ac"
      },
      "outputs": [
        {
          "output_type": "execute_result",
          "data": {
            "text/plain": [
              "array([1, 1, 1, ..., 0, 0, 1])"
            ]
          },
          "metadata": {},
          "execution_count": 31
        }
      ],
      "source": [
        "y_pred = sgdc.predict(X_test)\n",
        "y_pred"
      ]
    },
    {
      "cell_type": "code",
      "execution_count": null,
      "metadata": {
        "colab": {
          "base_uri": "https://localhost:8080/"
        },
        "id": "wzRxnt--4HXy",
        "outputId": "72b6ff25-f52b-4bcd-c827-81c877da4d4c"
      },
      "outputs": [
        {
          "output_type": "execute_result",
          "data": {
            "text/plain": [
              "0.6935961860584976"
            ]
          },
          "metadata": {},
          "execution_count": 32
        }
      ],
      "source": [
        "sgdc.score(X_train, y_train)"
      ]
    },
    {
      "cell_type": "code",
      "execution_count": null,
      "metadata": {
        "colab": {
          "base_uri": "https://localhost:8080/"
        },
        "id": "M222iJDk4PkM",
        "outputId": "ddf9fdb1-14bc-4569-ad03-173254820f3c"
      },
      "outputs": [
        {
          "output_type": "execute_result",
          "data": {
            "text/plain": [
              "0.7000386548125241"
            ]
          },
          "metadata": {},
          "execution_count": 33
        }
      ],
      "source": [
        "sgdc.score(X_test,y_test)"
      ]
    },
    {
      "cell_type": "code",
      "execution_count": null,
      "metadata": {
        "id": "RUGoY_t_4T3b",
        "colab": {
          "base_uri": "https://localhost:8080/"
        },
        "outputId": "908c4e62-ec4d-45f0-b12a-697d5a37d0f7"
      },
      "outputs": [
        {
          "output_type": "execute_result",
          "data": {
            "text/plain": [
              "GridSearchCV(cv=5,\n",
              "             estimator=SGDClassifier(loss='log', max_iter=10000, penalty='l1',\n",
              "                                     random_state=43),\n",
              "             param_grid={'alpha': [0.0001, 0.005, 0.001],\n",
              "                         'max_iter': [1000, 10000, 20000],\n",
              "                         'penalty': ['l1', 'l2', 'elasticnet']})"
            ]
          },
          "metadata": {},
          "execution_count": 34
        }
      ],
      "source": [
        "from sklearn.model_selection import GridSearchCV\n",
        "\n",
        "params = {'max_iter':[1000,10000,20000],'penalty':['l1','l2','elasticnet'],'alpha':[0.0001,0.005,0.001]}\n",
        "grid_search = GridSearchCV(sgdc,params,cv=5)\n",
        "grid_search.fit(X_train,y_train)"
      ]
    },
    {
      "cell_type": "code",
      "execution_count": null,
      "metadata": {
        "id": "JaYUydRK4eRp",
        "colab": {
          "base_uri": "https://localhost:8080/"
        },
        "outputId": "375401b5-42bc-480e-ca76-73d6c78fe65f"
      },
      "outputs": [
        {
          "output_type": "execute_result",
          "data": {
            "text/plain": [
              "{'alpha': 0.001, 'max_iter': 1000, 'penalty': 'l1'}"
            ]
          },
          "metadata": {},
          "execution_count": 35
        }
      ],
      "source": [
        "grid_search.best_params_"
      ]
    },
    {
      "cell_type": "code",
      "source": [
        "grid_search.best_score_"
      ],
      "metadata": {
        "colab": {
          "base_uri": "https://localhost:8080/"
        },
        "id": "UHAZtc_NmrTD",
        "outputId": "c0cebc3a-b5a3-45fa-c19c-3288f17099e8"
      },
      "execution_count": null,
      "outputs": [
        {
          "output_type": "execute_result",
          "data": {
            "text/plain": [
              "0.7124093872186191"
            ]
          },
          "metadata": {},
          "execution_count": 36
        }
      ]
    },
    {
      "cell_type": "code",
      "execution_count": null,
      "metadata": {
        "id": "LxA_4e2-5B1z"
      },
      "outputs": [],
      "source": [
        "from sklearn.linear_model import SGDClassifier\n",
        "sgdc = SGDClassifier(loss=\"log\", max_iter=1000,penalty='l1',random_state=43,alpha=0.005).fit(X_train,y_train)"
      ]
    },
    {
      "cell_type": "code",
      "execution_count": null,
      "metadata": {
        "id": "tfl6sWBh4oqX",
        "colab": {
          "base_uri": "https://localhost:8080/"
        },
        "outputId": "a6024e3e-f68b-400e-9607-c84cfc6afa26"
      },
      "outputs": [
        {
          "output_type": "execute_result",
          "data": {
            "text/plain": [
              "array([0, 1, 1, ..., 0, 0, 0])"
            ]
          },
          "metadata": {},
          "execution_count": 38
        }
      ],
      "source": [
        "y_pred = sgdc.predict(X_test)\n",
        "y_pred"
      ]
    },
    {
      "cell_type": "code",
      "execution_count": null,
      "metadata": {
        "id": "2Qzu1Kag5TSp",
        "colab": {
          "base_uri": "https://localhost:8080/"
        },
        "outputId": "7620c1c6-71de-4e4c-f35b-4b7885ab0289"
      },
      "outputs": [
        {
          "output_type": "execute_result",
          "data": {
            "text/plain": [
              "0.6959154748099472"
            ]
          },
          "metadata": {},
          "execution_count": 39
        }
      ],
      "source": [
        "sgdc.score(X_train,y_train)"
      ]
    },
    {
      "cell_type": "code",
      "execution_count": null,
      "metadata": {
        "id": "MM2FEeHx5dnW",
        "colab": {
          "base_uri": "https://localhost:8080/"
        },
        "outputId": "69daac19-16de-413a-f345-28840452ba38"
      },
      "outputs": [
        {
          "output_type": "execute_result",
          "data": {
            "text/plain": [
              "0.7046772323154232"
            ]
          },
          "metadata": {},
          "execution_count": 40
        }
      ],
      "source": [
        "sgdc.score(X_test,y_test)"
      ]
    },
    {
      "cell_type": "code",
      "execution_count": null,
      "metadata": {
        "id": "PR6MHt3P5iFW",
        "colab": {
          "base_uri": "https://localhost:8080/"
        },
        "outputId": "2624c1a8-cec1-4c0c-8c3c-54d6714e761f"
      },
      "outputs": [
        {
          "output_type": "stream",
          "name": "stdout",
          "text": [
            "[[1143  167]\n",
            " [ 597  680]]\n"
          ]
        }
      ],
      "source": [
        "from sklearn import metrics as mt\n",
        "print(mt.confusion_matrix(y_test,y_pred))"
      ]
    },
    {
      "cell_type": "code",
      "execution_count": null,
      "metadata": {
        "id": "fm4n9MRW5oFB",
        "colab": {
          "base_uri": "https://localhost:8080/"
        },
        "outputId": "128bae1a-91e5-4db5-bfe2-4db2a3c46fbe"
      },
      "outputs": [
        {
          "output_type": "stream",
          "name": "stdout",
          "text": [
            "              precision    recall  f1-score   support\n",
            "\n",
            "           0       0.66      0.87      0.75      1310\n",
            "           1       0.80      0.53      0.64      1277\n",
            "\n",
            "    accuracy                           0.70      2587\n",
            "   macro avg       0.73      0.70      0.69      2587\n",
            "weighted avg       0.73      0.70      0.70      2587\n",
            "\n"
          ]
        }
      ],
      "source": [
        "from sklearn.metrics import classification_report\n",
        "print(classification_report(y_test,y_pred))"
      ]
    },
    {
      "cell_type": "code",
      "source": [
        "mt.precision_score(y_test,y_pred)"
      ],
      "metadata": {
        "colab": {
          "base_uri": "https://localhost:8080/"
        },
        "id": "iBm5j5rmmYgr",
        "outputId": "1408e818-2329-4756-cff5-8167576d4a91"
      },
      "execution_count": null,
      "outputs": [
        {
          "output_type": "execute_result",
          "data": {
            "text/plain": [
              "0.8028335301062574"
            ]
          },
          "metadata": {},
          "execution_count": 43
        }
      ]
    },
    {
      "cell_type": "code",
      "source": [
        "mt.recall_score(y_test,y_pred)"
      ],
      "metadata": {
        "colab": {
          "base_uri": "https://localhost:8080/"
        },
        "id": "Sr1TGQUWowdf",
        "outputId": "79349d74-a2bc-43ae-c46f-f944613751f1"
      },
      "execution_count": null,
      "outputs": [
        {
          "output_type": "execute_result",
          "data": {
            "text/plain": [
              "0.5324980422866092"
            ]
          },
          "metadata": {},
          "execution_count": 44
        }
      ]
    },
    {
      "cell_type": "code",
      "execution_count": null,
      "metadata": {
        "id": "X98kSKil5uU_"
      },
      "outputs": [],
      "source": [
        "from sklearn.model_selection import cross_val_score\n",
        "c_score = cross_val_score(sgdc,X,Y,cv=5)"
      ]
    },
    {
      "cell_type": "code",
      "execution_count": null,
      "metadata": {
        "id": "WSIm8v6P52ne",
        "colab": {
          "base_uri": "https://localhost:8080/"
        },
        "outputId": "6f9cd25d-3e4e-4248-de93-9b7be32b918f"
      },
      "outputs": [
        {
          "output_type": "execute_result",
          "data": {
            "text/plain": [
              "array([0.61745919, 0.77217885, 0.67210788, 0.71946023, 0.78835227])"
            ]
          },
          "metadata": {},
          "execution_count": 46
        }
      ],
      "source": [
        "c_score"
      ]
    },
    {
      "cell_type": "code",
      "execution_count": null,
      "metadata": {
        "id": "k9cL0Tay57tL",
        "colab": {
          "base_uri": "https://localhost:8080/"
        },
        "outputId": "582fb5b5-a21b-4764-a1a3-744847467d91"
      },
      "outputs": [
        {
          "output_type": "execute_result",
          "data": {
            "text/plain": [
              "0.7139116838183108"
            ]
          },
          "metadata": {},
          "execution_count": 47
        }
      ],
      "source": [
        "c_score.mean()"
      ]
    },
    {
      "cell_type": "markdown",
      "source": [
        "**Again finding the *Accuracy* with K-fold:**"
      ],
      "metadata": {
        "id": "ek89VGIknG-M"
      }
    },
    {
      "cell_type": "code",
      "source": [
        "from sklearn.model_selection import KFold\n",
        "from sklearn.model_selection import cross_val_score\n",
        "\n",
        "kfold = KFold(n_splits=10, random_state=100, shuffle=True)\n",
        "model2= LogisticRegression(max_iter=10000,random_state=1)\n",
        "results_kfold = cross_val_score(model2, X_over, y_over, cv=kfold)\n",
        "print(results_kfold)\n",
        "print('Accuracy with 10 fold cross validation: ',results_kfold.mean()*100.0)"
      ],
      "metadata": {
        "colab": {
          "base_uri": "https://localhost:8080/"
        },
        "id": "Zx0ypJusncHB",
        "outputId": "8d6f975d-2ec7-431d-dcb0-36a8b65e3c21"
      },
      "execution_count": null,
      "outputs": [
        {
          "output_type": "stream",
          "name": "stdout",
          "text": [
            "[0.76618357 0.76618357 0.7826087  0.74009662 0.77391304 0.7410628\n",
            " 0.73816425 0.76135266 0.76692456 0.7794971 ]\n",
            "Accuracy with 10 fold cross validation:  76.15986880834245\n"
          ]
        }
      ]
    },
    {
      "cell_type": "markdown",
      "source": [
        "* We have used 10 folds in cross validation and found 76.15% accuracy."
      ],
      "metadata": {
        "id": "h7JCp4kpE8-R"
      }
    },
    {
      "cell_type": "code",
      "source": [
        "from sklearn.model_selection import cross_val_predict\n",
        "\n",
        "y_pred1 = cross_val_predict(model2, X_over, y_over, cv=10)\n",
        "conf_mat = confusion_matrix(y_over, y_pred1)\n",
        "conf_mat"
      ],
      "metadata": {
        "colab": {
          "base_uri": "https://localhost:8080/"
        },
        "id": "gDlGJMOungcY",
        "outputId": "2e429d46-7f13-464e-aad7-7f939fa6567f"
      },
      "execution_count": null,
      "outputs": [
        {
          "output_type": "execute_result",
          "data": {
            "text/plain": [
              "array([[3719, 1455],\n",
              "       [ 990, 4184]])"
            ]
          },
          "metadata": {},
          "execution_count": 49
        }
      ]
    },
    {
      "cell_type": "markdown",
      "source": [
        "---"
      ],
      "metadata": {
        "id": "2seIxA0gHOIy"
      }
    },
    {
      "cell_type": "markdown",
      "source": [
        "**Model Comparision: **\n",
        "\n",
        "* In our dataset Logistic Regression is working better than Stochastic Gradient Descent Classifier.\n",
        "*It is because our dataset is very small (contains only 7043 rows and 21 column) and sgd is used for very large dataset.\n",
        "\n",
        "*   \tAlso, because logistic regression has inbulit gradient descent in it.\n",
        "*   \tLogistic Regression has precision score= 0.742 and recall score= 0.810 whereas Stochastic Gradient Descent has precision score= 0.8028 and \n",
        "recall score= 0.5324. So, clearly logistic regression wins the battle.\n",
        "\n",
        "*   Additionally, stochastic gradient descent is purely an optimization technique whereas logistic regression is a Machine Learning algorithm. The role of SGD is to minimize the cost function.\n",
        "\n",
        "*   SGD can be used with different machine learning algorithms like support vector machine whereas logistic regression can't be used."
      ],
      "metadata": {
        "id": "O7HxkcYhni1E"
      }
    },
    {
      "cell_type": "markdown",
      "source": [
        "https://colab.research.google.com/drive/163IANZmCK4YncAq7fV6HcnFzDtAaoeDP?usp=sharing"
      ],
      "metadata": {
        "id": "yzvxqbDsKf23"
      }
    }
  ],
  "metadata": {
    "colab": {
      "collapsed_sections": [],
      "name": "CA1_ML_Logistic_Regression.ipynb",
      "provenance": []
    },
    "kernelspec": {
      "display_name": "Python 3",
      "name": "python3"
    },
    "language_info": {
      "name": "python"
    }
  },
  "nbformat": 4,
  "nbformat_minor": 0
}